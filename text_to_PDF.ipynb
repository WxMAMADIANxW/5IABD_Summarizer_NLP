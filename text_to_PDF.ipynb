{
  "nbformat": 4,
  "nbformat_minor": 0,
  "metadata": {
    "colab": {
      "provenance": []
    },
    "kernelspec": {
      "name": "python3",
      "display_name": "Python 3"
    },
    "language_info": {
      "name": "python"
    }
  },
  "cells": [
    {
      "cell_type": "code",
      "execution_count": null,
      "metadata": {
        "id": "-yNYBA_MnXY3"
      },
      "outputs": [],
      "source": [
        "summary = \"hello There ! Born and raised in Dublin, he attended Mount Temple Comprehensive School where in 1976 he began dating his future wife, Alison Stewart, as well as forming, with schoolmates, the band that became U2.[2][3] Bono soon established himself as a passionate frontman for the band through his expressive vocal style and grandiose gestures and songwriting. His lyrics frequently include social and political themes, and religious imagery inspired by his Christian beliefs.[4][5] During U2's early years, Bono's lyrics contributed to the group's rebellious and spiritual tone.[4] As the band matured, his lyrics became inspired more by personal experiences shared with the other members.[2][4] As a member of U2, Bono has received 22 Grammy Awards and has been inducted into the Rock and Roll Hall of Fame.\""
      ]
    },
    {
      "cell_type": "code",
      "source": [
        "!pip install fpdf"
      ],
      "metadata": {
        "id": "nQ34h8XInZiB"
      },
      "execution_count": null,
      "outputs": []
    },
    {
      "cell_type": "code",
      "source": [
        "from fpdf import FPDF\n",
        "\n",
        "pdf = FPDF()"
      ],
      "metadata": {
        "id": "54P3Zn2EnZeW"
      },
      "execution_count": null,
      "outputs": []
    },
    {
      "cell_type": "code",
      "source": [
        "def text_to_PDF(pdf, text_to_sum):\n",
        "  pdf.set_font(\"Arial\", size = 15)\n",
        "  pdf.add_page()\n",
        "  pdf.cell(200, 10, txt = \"Summary : \",\n",
        "         ln = 1, align = 'C')\n",
        "  pdf.multi_cell(0, 5, txt = text_to_sum, align = 'L')\n",
        "\n",
        "  pdf.output(\"sum.pdf\")  "
      ],
      "metadata": {
        "id": "EuCqEaBQnmcy"
      },
      "execution_count": null,
      "outputs": []
    },
    {
      "cell_type": "code",
      "source": [
        "text_to_PDF(pdf, summary)"
      ],
      "metadata": {
        "id": "2LVJ0j6ynoH-"
      },
      "execution_count": null,
      "outputs": []
    }
  ]
}